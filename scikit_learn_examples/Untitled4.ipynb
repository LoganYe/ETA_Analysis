{
 "cells": [
  {
   "cell_type": "code",
   "execution_count": 1,
   "metadata": {
    "collapsed": false
   },
   "outputs": [
    {
     "ename": "SyntaxError",
     "evalue": "invalid syntax (<ipython-input-1-41120b5dcdef>, line 20)",
     "output_type": "error",
     "traceback": [
      "\u001b[0;36m  File \u001b[0;32m\"<ipython-input-1-41120b5dcdef>\"\u001b[0;36m, line \u001b[0;32m20\u001b[0m\n\u001b[0;31m    print df.head()\u001b[0m\n\u001b[0m           ^\u001b[0m\n\u001b[0;31mSyntaxError\u001b[0m\u001b[0;31m:\u001b[0m invalid syntax\n"
     ]
    }
   ],
   "source": [
    "import urllib2  \n",
    "import datetime as datetime  \n",
    "import pandas as pd  \n",
    "import statsmodels.api as sm  \n",
    "import seaborn as sns  \n",
    "import matplotlib.pyplot as plt\n",
    "\n",
    "# Import the sample streamflow dataset\n",
    "data = urllib2.urlopen('https://raw.github.com/mps9506/Sample-Datasets/master/Streamflow/USGS-Monthly_Streamflow_Bend_OR.tsv')  \n",
    "df = pd.read_csv(data, sep='\\t')\n",
    "\n",
    "# The yyyy,mm, and dd are in seperate columns, we need to make this a single column\n",
    "df['dti'] = df[['year_nu','month_nu','dd_nu']].apply(lambda x: datetime.datetime(*x),axis=1)\n",
    "\n",
    "# Let use this as our index since we are using pandas\n",
    "df.index = pd.DatetimeIndex(df['dti'])  \n",
    "# Clean the dataframe a bit\n",
    "df = df.drop(['dd_nu','year_nu','month_nu','dti'],axis=1)  \n",
    "df = df.resample('M',how='mean')  \n",
    "print df.head()  \n",
    "fig,ax = plt.subplots(1,1, figsize=(6,4))  \n",
    "flow = df['mean_va']  \n",
    "flow = flow['1949-01':]\n",
    "\n",
    "res = sm.tsa.seasonal_decompose(flow)  \n",
    "fig = res.plot()  \n",
    "fig.show()  "
   ]
  },
  {
   "cell_type": "code",
   "execution_count": null,
   "metadata": {
    "collapsed": true
   },
   "outputs": [],
   "source": []
  }
 ],
 "metadata": {
  "kernelspec": {
   "display_name": "Python [default]",
   "language": "python",
   "name": "python3"
  },
  "language_info": {
   "codemirror_mode": {
    "name": "ipython",
    "version": 3
   },
   "file_extension": ".py",
   "mimetype": "text/x-python",
   "name": "python",
   "nbconvert_exporter": "python",
   "pygments_lexer": "ipython3",
   "version": "3.5.2"
  }
 },
 "nbformat": 4,
 "nbformat_minor": 1
}
